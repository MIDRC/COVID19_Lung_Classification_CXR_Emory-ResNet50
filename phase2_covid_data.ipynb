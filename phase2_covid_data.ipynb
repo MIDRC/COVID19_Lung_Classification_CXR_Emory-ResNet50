{
 "cells": [
  {
   "cell_type": "code",
   "execution_count": null,
   "metadata": {},
   "outputs": [],
   "source": [
    "import tensorflow as tf\n",
    "import tensorflow.keras\n",
    "from keras import layers\n",
    "import matplotlib.pyplot as plt\n",
    "from tensorflow.keras.models import Sequential, Model\n",
    "from tensorflow.keras.optimizers import Adam\n",
    "from tensorflow.keras.layers import Dense, MaxPooling2D, Dropout, Flatten\n",
    "from tensorflow.keras.preprocessing.image import ImageDataGenerator, load_img\n",
    "from tensorflow.keras.callbacks import CSVLogger\n",
    "from tensorflow.keras.callbacks import ModelCheckpoint, EarlyStopping, ReduceLROnPlateau, CSVLogger\n",
    "from tensorflow.keras.utils import to_categorical\n",
    "import numpy as np\n",
    "from sklearn.utils import shuffle, class_weight\n",
    "from sklearn.metrics import classification_report, confusion_matrix\n",
    "from tensorflow_addons.losses import SigmoidFocalCrossEntropy\n",
    "import pandas as pd\n",
    "import os"
   ]
  },
  {
   "cell_type": "code",
   "execution_count": null,
   "metadata": {},
   "outputs": [],
   "source": [
    "tf.__version__"
   ]
  },
  {
   "cell_type": "code",
   "execution_count": null,
   "metadata": {},
   "outputs": [],
   "source": [
    "from sklearn.model_selection import train_test_split\n",
    "\n",
    "#Load data csv with image paths and labels\n",
    "train, test = train_test_split(data, test_size=0.4, random_state=1)\n",
    "valid, test = train_test_split(test, test_size=.5, random_state=1)\n"
   ]
  },
  {
   "cell_type": "code",
   "execution_count": null,
   "metadata": {},
   "outputs": [],
   "source": [
    "#central crop on 224 x 224\n",
    "IMAGE_WIDTH, IMAGE_HEIGHT = (224, 224)\n",
    "EPOCHS = 50\n",
    "BATCH_SIZE = 32\n",
    "learning = 0.0001\n",
    "image_shape = (IMAGE_HEIGHT, IMAGE_WIDTH, 3)"
   ]
  },
  {
   "cell_type": "code",
   "execution_count": null,
   "metadata": {},
   "outputs": [],
   "source": [
    "#zero mean to resize -1 to 1 \n",
    "train_datagen = ImageDataGenerator(\n",
    "        rescale=1./255,\n",
    "        horizontal_flip=True,\n",
    "        \n",
    "    )\n",
    "valid_datagen = ImageDataGenerator(\n",
    "        rescale=1./255\n",
    "    )\n",
    "\n"
   ]
  },
  {
   "cell_type": "code",
   "execution_count": null,
   "metadata": {},
   "outputs": [],
   "source": [
    "train_generator=train_datagen.flow_from_dataframe(\n",
    "    dataframe=train, \n",
    "    directory=None,\n",
    "    x_col=\"Path\", y_col=\"Label\", \n",
    "    class_mode=\"binary\", \n",
    "    target_size=(IMAGE_HEIGHT, IMAGE_WIDTH), \n",
    "    batch_size=BATCH_SIZE,\n",
    "    seed=16\n",
    ")\n",
    "valid_generator=valid_datagen.flow_from_dataframe(\n",
    "    dataframe=valid, directory=None,\n",
    "    x_col=\"Path\", y_col=\"Label\", \n",
    "    class_mode=\"binary\", \n",
    "    target_size=(IMAGE_HEIGHT, IMAGE_WIDTH), \n",
    "    shuffle = True, \n",
    "    batch_size=BATCH_SIZE,\n",
    "    seed=16\n",
    ")\n",
    "test_generator=valid_datagen.flow_from_dataframe(\n",
    "    dataframe=test, \n",
    "    directory=None, \n",
    "    x_col=\"Path\", y_col=\"Label\", \n",
    "    class_mode=\"binary\", \n",
    "    target_size=(IMAGE_HEIGHT, IMAGE_WIDTH), \n",
    "    shuffle = False, \n",
    "    batch_size=BATCH_SIZE,\n",
    "    seed=16\n",
    ")"
   ]
  },
  {
   "cell_type": "code",
   "execution_count": null,
   "metadata": {},
   "outputs": [],
   "source": [
    "#create model\n",
    "from keras.models import load_model\n",
    "model = load_model(\"/home/jupyter-zaiman/COVID-19 Classification/ResNet50-UnderSampling/ResNet50_Undersampling.h5\")\n",
    "# model.layers[-1]._name='visualized_layer'\n",
    "model.summary()"
   ]
  },
  {
   "cell_type": "code",
   "execution_count": null,
   "metadata": {},
   "outputs": [],
   "source": [
    "model.compile(optimizer=Adam(lr=learning), loss='binary_crossentropy', metrics=['accuracy'])\n",
    "\n",
    "\n",
    "save = ModelCheckpoint(\n",
    "    '/home/jupyter-zaiman/COVID-19 Classification/ResNet50_covid/', \n",
    "    monitor='val_accuracy', \n",
    "    save_best_only=True,\n",
    "    save_weights_only=True, \n",
    "    mode='max',\n",
    "    verbose=1\n",
    ")\n",
    "stop = EarlyStopping(monitor='val_loss', mode='min', verbose=1, patience=6)\n",
    "scheduler = ReduceLROnPlateau(\n",
    "    monitor=\"val_loss\",\n",
    "    factor=0.01,\n",
    "    patience=3,\n",
    "    verbose=1\n",
    "    )\n",
    "logger = CSVLogger('/home/jupyter-zaiman/COVID-19 Classification/ResNet50_covid/training.log')\n",
    "history = model.fit(train_generator, \n",
    "    epochs=EPOCHS, \n",
    "    validation_data=valid_generator, \n",
    "    verbose=1, \n",
    "    callbacks=[save, scheduler, stop, logger,]\n",
    ")\n",
    "\n"
   ]
  },
  {
   "cell_type": "code",
   "execution_count": null,
   "metadata": {},
   "outputs": [],
   "source": [
    "model.summary()"
   ]
  },
  {
   "cell_type": "code",
   "execution_count": null,
   "metadata": {},
   "outputs": [],
   "source": [
    "model.save(\"resnet_covid.hdf5\")"
   ]
  },
  {
   "cell_type": "code",
   "execution_count": null,
   "metadata": {},
   "outputs": [],
   "source": [
    "import seaborn as sns\n",
    "print(history.history.keys())\n",
    "# summarize history for accuracy\n",
    "plt.plot(history.history['accuracy'])\n",
    "plt.plot(history.history['val_accuracy'])\n",
    "plt.title('model accuracy')\n",
    "plt.ylabel('accuracy')\n",
    "plt.xlabel('epoch')\n",
    "plt.legend(['train', 'test'], loc='lower right')\n",
    "plt.show()\n",
    "# summarize history for loss\n",
    "plt.plot(history.history['loss'])\n",
    "plt.plot(history.history['val_loss'])\n",
    "plt.title('model loss')\n",
    "plt.ylabel('loss')\n",
    "plt.xlabel('epoch')\n",
    "plt.legend(['train', 'test'], loc='lower right')\n",
    "plt.show()\n",
    "  \n",
    "Y_pred = model.predict(test_generator, len(test_generator.filenames)) \n",
    "labels = (Y_pred >= 0.5).astype(np.int)\n",
    "print('Confusion Matrix')\n",
    "cm = confusion_matrix(test_generator.classes, labels)\n",
    "plt.figure(figsize=(6,6))\n",
    "sns.heatmap(cm, annot=True, fmt=\"d\");\n",
    "target_names = ['negative', 'positive']\n",
    "print('Classification Report')\n",
    "print(classification_report(test_generator.classes, labels, target_names=target_names)) "
   ]
  },
  {
   "cell_type": "code",
   "execution_count": null,
   "metadata": {},
   "outputs": [],
   "source": [
    "def ppv(cm):\n",
    "    ppv = cm[1, 1] / (cm[0, 1] + cm[1, 1])\n",
    "    return ppv\n",
    "\n",
    "def npv(cm):\n",
    "    npv = cm[0, 0] / (cm[0, 0] + cm[1, 0])\n",
    "    return npv\n",
    "print(ppv(cm))\n",
    "print(npv(cm))"
   ]
  },
  {
   "cell_type": "code",
   "execution_count": null,
   "metadata": {},
   "outputs": [],
   "source": [
    "from sklearn.metrics import roc_curve\n",
    "\n",
    "fpr, tpr, thresholds = roc_curve(test_generator.classes, Y_pred)\n",
    "\n",
    "def plot_roc_curve(fpr, tpr, label=None):\n",
    "    plt.plot(fpr, tpr, linewidth=2, label=label)\n",
    "    plt.plot([0, 1], [0, 1], 'k--')\n",
    "    plt.axis([0, 1, 0, 1])\n",
    "    plt.title(\"ROC Curve\")\n",
    "    plt.xlabel('False Positive Rate')\n",
    "    plt.ylabel('True Positive Rate')\n",
    "\n",
    "plot_roc_curve(fpr, tpr)\n",
    "plt.show()\n",
    "from sklearn.metrics import roc_auc_score\n",
    "roc = roc_auc_score(test_generator.classes, Y_pred)\n",
    "print(\"ROC AUC Score: \" + roc.astype(str))"
   ]
  },
  {
   "cell_type": "code",
   "execution_count": null,
   "metadata": {},
   "outputs": [],
   "source": [
    "from sklearn.metrics import precision_recall_curve, auc\n",
    "\n",
    "precision, recall, thresholds = precision_recall_curve(test_generator.classes, Y_pred)\n",
    "plt.title(\"PR Curve\")\n",
    "plt.plot(recall, precision)\n",
    "plt.show()\n",
    "auc_precision_recall = auc(recall, precision)\n",
    "print(\"PR AUC: \" + auc_precision_recall.astype(str))\n"
   ]
  }
 ],
 "metadata": {
  "kernelspec": {
   "display_name": "venv",
   "language": "python",
   "name": "venv"
  },
  "language_info": {
   "codemirror_mode": {
    "name": "ipython",
    "version": 3
   },
   "file_extension": ".py",
   "mimetype": "text/x-python",
   "name": "python",
   "nbconvert_exporter": "python",
   "pygments_lexer": "ipython3",
   "version": "3.8.5"
  }
 },
 "nbformat": 4,
 "nbformat_minor": 4
}
